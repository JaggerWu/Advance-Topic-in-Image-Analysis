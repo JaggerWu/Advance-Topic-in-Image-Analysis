{
 "cells": [
  {
   "cell_type": "code",
   "execution_count": 8,
   "metadata": {
    "collapsed": true
   },
   "outputs": [],
   "source": [
    "%matplotlib inline\n",
    "\n",
    "import numpy as np\n",
    "import cv2\n",
    "import matplotlib.pyplot as plt\n",
    "import skimage\n",
    "import pickle"
   ]
  },
  {
   "cell_type": "code",
   "execution_count": 30,
   "metadata": {
    "scrolled": false
   },
   "outputs": [
    {
     "name": "stdout",
     "output_type": "stream",
     "text": [
      "34\n",
      "179\n",
      "18\n",
      "67\n",
      "45\n",
      "2\n",
      "4\n",
      "53\n",
      "118\n",
      "6\n",
      "726\n",
      "1\n",
      "4\n",
      "188\n",
      "1\n",
      "3\n",
      "8\n",
      "6\n",
      "206\n",
      "1\n",
      "108\n",
      "154\n",
      "943\n",
      "30\n",
      "646\n",
      "2\n",
      "23\n",
      "10\n",
      "127\n",
      "82\n",
      "119\n",
      "8\n",
      "251\n",
      "1113\n",
      "5\n",
      "1\n",
      "160\n",
      "233\n",
      "10\n",
      "2\n",
      "166\n",
      "106\n",
      "21\n",
      "24\n",
      "7\n",
      "309\n",
      "11\n",
      "329\n",
      "5\n",
      "613\n",
      "65\n",
      "6\n",
      "2\n",
      "1176\n",
      "288\n",
      "2\n",
      "143\n",
      "4\n",
      "8\n",
      "1\n",
      "144\n",
      "10\n",
      "558\n",
      "382\n",
      "31\n",
      "1\n",
      "148\n",
      "229\n",
      "13\n",
      "8\n",
      "12\n",
      "9\n",
      "84\n",
      "185\n",
      "7\n",
      "1\n",
      "12\n",
      "237\n",
      "6\n",
      "264\n",
      "49\n",
      "2\n",
      "167\n",
      "1\n",
      "59\n",
      "618\n",
      "385\n"
     ]
    }
   ],
   "source": [
    "leafscan_dict = pickle.load(open('./train.pickle', 'rb'))\n",
    "\n"
   ]
  }
 ],
 "metadata": {
  "kernelspec": {
   "display_name": "Python 2",
   "language": "python",
   "name": "python2"
  },
  "language_info": {
   "codemirror_mode": {
    "name": "ipython",
    "version": 2
   },
   "file_extension": ".py",
   "mimetype": "text/x-python",
   "name": "python",
   "nbconvert_exporter": "python",
   "pygments_lexer": "ipython2",
   "version": "2.7.13"
  }
 },
 "nbformat": 4,
 "nbformat_minor": 2
}
